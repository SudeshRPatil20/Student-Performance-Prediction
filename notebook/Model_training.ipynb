{
 "cells": [
  {
   "cell_type": "code",
   "execution_count": 23,
   "id": "7d71c876",
   "metadata": {},
   "outputs": [],
   "source": [
    "import numpy as np\n",
    "import pandas as pd\n",
    "import seaborn as sns\n",
    "import matplotlib.pyplot as plt\n",
    "%matplotlib inline\n",
    "import warnings\n",
    "warnings.filterwarnings('ignore')\n",
    "\n",
    "from sklearn.metrics import mean_squared_error, r2_score\n",
    "from sklearn.neighbors import KNeighborsRegressor\n",
    "from sklearn.tree import DecisionTreeRegressor\n",
    "from sklearn.ensemble import RandomForestRegressor, AdaBoostRegressor\n",
    "from sklearn.svm import SVR\n",
    "from sklearn.linear_model import LinearRegression, Ridge, Lasso\n",
    "from sklearn.metrics import r2_score, mean_absolute_error, mean_squared_error\n",
    "from sklearn.model_selection import RandomizedSearchCV\n",
    "from catboost import CatBoostRegressor\n",
    "from xgboost import XGBRegressor"
   ]
  },
  {
   "cell_type": "code",
   "execution_count": 24,
   "id": "be2d2c3e",
   "metadata": {},
   "outputs": [],
   "source": [
    "df=pd.read_csv('data/Student.csv')"
   ]
  },
  {
   "cell_type": "code",
   "execution_count": 25,
   "id": "1604bf50",
   "metadata": {},
   "outputs": [
    {
     "data": {
      "text/html": [
       "<div>\n",
       "<style scoped>\n",
       "    .dataframe tbody tr th:only-of-type {\n",
       "        vertical-align: middle;\n",
       "    }\n",
       "\n",
       "    .dataframe tbody tr th {\n",
       "        vertical-align: top;\n",
       "    }\n",
       "\n",
       "    .dataframe thead th {\n",
       "        text-align: right;\n",
       "    }\n",
       "</style>\n",
       "<table border=\"1\" class=\"dataframe\">\n",
       "  <thead>\n",
       "    <tr style=\"text-align: right;\">\n",
       "      <th></th>\n",
       "      <th>gender</th>\n",
       "      <th>race/ethnicity</th>\n",
       "      <th>parental level of education</th>\n",
       "      <th>lunch</th>\n",
       "      <th>test preparation course</th>\n",
       "      <th>math score</th>\n",
       "      <th>reading score</th>\n",
       "      <th>writing score</th>\n",
       "    </tr>\n",
       "  </thead>\n",
       "  <tbody>\n",
       "    <tr>\n",
       "      <th>0</th>\n",
       "      <td>female</td>\n",
       "      <td>group B</td>\n",
       "      <td>bachelor's degree</td>\n",
       "      <td>standard</td>\n",
       "      <td>none</td>\n",
       "      <td>72</td>\n",
       "      <td>72</td>\n",
       "      <td>74</td>\n",
       "    </tr>\n",
       "    <tr>\n",
       "      <th>1</th>\n",
       "      <td>female</td>\n",
       "      <td>group C</td>\n",
       "      <td>some college</td>\n",
       "      <td>standard</td>\n",
       "      <td>completed</td>\n",
       "      <td>69</td>\n",
       "      <td>90</td>\n",
       "      <td>88</td>\n",
       "    </tr>\n",
       "    <tr>\n",
       "      <th>2</th>\n",
       "      <td>female</td>\n",
       "      <td>group B</td>\n",
       "      <td>master's degree</td>\n",
       "      <td>standard</td>\n",
       "      <td>none</td>\n",
       "      <td>90</td>\n",
       "      <td>95</td>\n",
       "      <td>93</td>\n",
       "    </tr>\n",
       "    <tr>\n",
       "      <th>3</th>\n",
       "      <td>male</td>\n",
       "      <td>group A</td>\n",
       "      <td>associate's degree</td>\n",
       "      <td>free/reduced</td>\n",
       "      <td>none</td>\n",
       "      <td>47</td>\n",
       "      <td>57</td>\n",
       "      <td>44</td>\n",
       "    </tr>\n",
       "    <tr>\n",
       "      <th>4</th>\n",
       "      <td>male</td>\n",
       "      <td>group C</td>\n",
       "      <td>some college</td>\n",
       "      <td>standard</td>\n",
       "      <td>none</td>\n",
       "      <td>76</td>\n",
       "      <td>78</td>\n",
       "      <td>75</td>\n",
       "    </tr>\n",
       "  </tbody>\n",
       "</table>\n",
       "</div>"
      ],
      "text/plain": [
       "   gender race/ethnicity parental level of education  ... math score reading score  writing score\n",
       "0  female        group B           bachelor's degree  ...         72            72             74\n",
       "1  female        group C                some college  ...         69            90             88\n",
       "2  female        group B             master's degree  ...         90            95             93\n",
       "3    male        group A          associate's degree  ...         47            57             44\n",
       "4    male        group C                some college  ...         76            78             75\n",
       "\n",
       "[5 rows x 8 columns]"
      ]
     },
     "execution_count": 25,
     "metadata": {},
     "output_type": "execute_result"
    }
   ],
   "source": [
    "df.head()"
   ]
  },
  {
   "cell_type": "markdown",
   "id": "086c9cf4",
   "metadata": {},
   "source": [
    "# inndependent and dependent feature"
   ]
  },
  {
   "cell_type": "code",
   "execution_count": 26,
   "id": "d3ecb591",
   "metadata": {},
   "outputs": [],
   "source": [
    "X=df.drop(columns=['math score'],axis=1)"
   ]
  },
  {
   "cell_type": "code",
   "execution_count": 27,
   "id": "bf2a80b7",
   "metadata": {},
   "outputs": [],
   "source": [
    "y=df['math score']"
   ]
  },
  {
   "cell_type": "code",
   "execution_count": 28,
   "id": "10c33c25",
   "metadata": {},
   "outputs": [],
   "source": [
    "#creating the pipeline\n",
    "num_feature=X.select_dtypes(exclude=\"object\").columns\n",
    "cat_feature=X.select_dtypes(include=\"object\").columns\n",
    "\n",
    "from sklearn.preprocessing import OneHotEncoder, StandardScaler\n",
    "from sklearn.compose import ColumnTransformer\n",
    "\n",
    "num_transformer= StandardScaler()\n",
    "oh_transformer=OneHotEncoder()\n",
    "\n",
    "\n",
    "preprocessor=ColumnTransformer(\n",
    "    [\n",
    "        (\"OneHotEncoder\", oh_transformer, cat_feature),\n",
    "        (\"StandardScaler\", num_transformer, num_feature),\n",
    "    ]\n",
    ")"
   ]
  },
  {
   "cell_type": "code",
   "execution_count": 29,
   "id": "0c44bebb",
   "metadata": {},
   "outputs": [],
   "source": [
    "X = preprocessor.fit_transform(X)"
   ]
  },
  {
   "cell_type": "code",
   "execution_count": 30,
   "id": "007ed8a3",
   "metadata": {},
   "outputs": [
    {
     "data": {
      "text/plain": [
       "array([[ 1.        ,  0.        ,  0.        , ...,  1.        ,\n",
       "         0.19399858,  0.39149181],\n",
       "       [ 1.        ,  0.        ,  0.        , ...,  0.        ,\n",
       "         1.42747598,  1.31326868],\n",
       "       [ 1.        ,  0.        ,  0.        , ...,  1.        ,\n",
       "         1.77010859,  1.64247471],\n",
       "       ...,\n",
       "       [ 1.        ,  0.        ,  0.        , ...,  0.        ,\n",
       "         0.12547206, -0.20107904],\n",
       "       [ 1.        ,  0.        ,  0.        , ...,  0.        ,\n",
       "         0.60515772,  0.58901542],\n",
       "       [ 1.        ,  0.        ,  0.        , ...,  1.        ,\n",
       "         1.15336989,  1.18158627]])"
      ]
     },
     "execution_count": 30,
     "metadata": {},
     "output_type": "execute_result"
    }
   ],
   "source": [
    "X #by above you can see that it has happend both ohe also and after ohe autometically scaling between an perticular range"
   ]
  },
  {
   "cell_type": "code",
   "execution_count": 31,
   "id": "c8e0e7e1",
   "metadata": {},
   "outputs": [],
   "source": [
    "from sklearn.model_selection import train_test_split\n",
    "X_train,X_test,y_train,y_test=train_test_split(X,y,test_size=0.2,random_state=42)"
   ]
  },
  {
   "cell_type": "code",
   "execution_count": 32,
   "id": "d0f6869f",
   "metadata": {},
   "outputs": [
    {
     "data": {
      "text/plain": [
       "((800, 19), (200, 19))"
      ]
     },
     "execution_count": 32,
     "metadata": {},
     "output_type": "execute_result"
    }
   ],
   "source": [
    "X_train.shape ,X_test.shape"
   ]
  },
  {
   "cell_type": "code",
   "execution_count": 33,
   "id": "bbb50f30",
   "metadata": {},
   "outputs": [],
   "source": [
    "def evalution_metrics(true, predicted):\n",
    "    mae=mean_absolute_error(true, predicted)\n",
    "    mse=mean_squared_error(true,predicted)\n",
    "    rsme=np.sqrt(mean_squared_error(true, predicted))\n",
    "    r2_scoree=r2_score(true, predicted)\n",
    "    return mae, rsme, r2_scoree\n"
   ]
  },
  {
   "cell_type": "code",
   "execution_count": 42,
   "id": "77fdef37",
   "metadata": {},
   "outputs": [
    {
     "name": "stdout",
     "output_type": "stream",
     "text": [
      "Decision Tree\n",
      "model performance for training set\n",
      "- Root mean squre error: 0.2795\n",
      "- Mean absolute error: 0.0187\n",
      "- R2_score: 0.9997\n",
      "---------------------------------------------------------------------------------\n",
      "model performance of testing\n",
      "- Root mean squre error: 7.4723\n",
      "- Mean absolute error: 5.9750\n",
      "- R2_score: 0.7705\n",
      "===================================\n",
      "\n",
      "\n",
      "Random Forest\n",
      "model performance for training set\n",
      "- Root mean squre error: 2.2816\n",
      "- Mean absolute error: 1.8142\n",
      "- R2_score: 0.9769\n",
      "---------------------------------------------------------------------------------\n",
      "model performance of testing\n",
      "- Root mean squre error: 5.9741\n",
      "- Mean absolute error: 4.6142\n",
      "- R2_score: 0.8533\n",
      "===================================\n",
      "\n",
      "\n",
      "Lesso\n",
      "model performance for training set\n",
      "- Root mean squre error: 6.5938\n",
      "- Mean absolute error: 5.2063\n",
      "- R2_score: 0.8071\n",
      "---------------------------------------------------------------------------------\n",
      "model performance of testing\n",
      "- Root mean squre error: 6.5197\n",
      "- Mean absolute error: 5.1579\n",
      "- R2_score: 0.8253\n",
      "===================================\n",
      "\n",
      "\n",
      "Rigid\n",
      "model performance for training set\n",
      "- Root mean squre error: 5.3233\n",
      "- Mean absolute error: 4.2650\n",
      "- R2_score: 0.8743\n",
      "---------------------------------------------------------------------------------\n",
      "model performance of testing\n",
      "- Root mean squre error: 5.3904\n",
      "- Mean absolute error: 4.2111\n",
      "- R2_score: 0.8806\n",
      "===================================\n",
      "\n",
      "\n",
      "Linear Regression\n",
      "model performance for training set\n",
      "- Root mean squre error: 5.3243\n",
      "- Mean absolute error: 4.2671\n",
      "- R2_score: 0.8743\n",
      "---------------------------------------------------------------------------------\n",
      "model performance of testing\n",
      "- Root mean squre error: 5.3960\n",
      "- Mean absolute error: 4.2158\n",
      "- R2_score: 0.8803\n",
      "===================================\n",
      "\n",
      "\n",
      "XGBoostRegression\n",
      "model performance for training set\n",
      "- Root mean squre error: 1.0073\n",
      "- Mean absolute error: 0.6875\n",
      "- R2_score: 0.9955\n",
      "---------------------------------------------------------------------------------\n",
      "model performance of testing\n",
      "- Root mean squre error: 6.4733\n",
      "- Mean absolute error: 5.0577\n",
      "- R2_score: 0.8278\n",
      "===================================\n",
      "\n",
      "\n",
      "CatboostRegression\n",
      "model performance for training set\n",
      "- Root mean squre error: 3.0427\n",
      "- Mean absolute error: 2.4054\n",
      "- R2_score: 0.9589\n",
      "---------------------------------------------------------------------------------\n",
      "model performance of testing\n",
      "- Root mean squre error: 6.0086\n",
      "- Mean absolute error: 4.6125\n",
      "- R2_score: 0.8516\n",
      "===================================\n",
      "\n",
      "\n",
      "AdaboostRegression\n",
      "model performance for training set\n",
      "- Root mean squre error: 5.8984\n",
      "- Mean absolute error: 4.8146\n",
      "- R2_score: 0.8457\n",
      "---------------------------------------------------------------------------------\n",
      "model performance of testing\n",
      "- Root mean squre error: 6.2025\n",
      "- Mean absolute error: 4.8352\n",
      "- R2_score: 0.8419\n",
      "===================================\n",
      "\n",
      "\n"
     ]
    }
   ],
   "source": [
    "models={\n",
    "    \"Decision Tree\":DecisionTreeRegressor(),\n",
    "    \"Random Forest\":RandomForestRegressor(),\n",
    "    \"Lesso\":Lasso(),\n",
    "    \"Rigid\":Ridge(),\n",
    "    \"Linear Regression\":LinearRegression(),\n",
    "#     \"K-neighbor\":KNeighborsRegressor(),\n",
    "    \"XGBoostRegression\":XGBRegressor(n_jobs=1),\n",
    "    \"CatboostRegression\":CatBoostRegressor(verbose=False),\n",
    "    \"AdaboostRegression\":AdaBoostRegressor()\n",
    "}\n",
    "\n",
    "model_list=[]\n",
    "r2_list=[]\n",
    "\n",
    "for i in range(len(list(models))):\n",
    "    model=list(models.values())[i]\n",
    "    model.fit(X_train, y_train)#train model\n",
    "    \n",
    "    \n",
    "    #make prediction\n",
    "    y_train_pred = model.predict(X_train)\n",
    "    y_test_pred = model.predict(X_test)\n",
    "    \n",
    "    #evalution train and test\n",
    "    model_train_mae, model_train_rsme, model_train_r2score=evalution_metrics(y_train, y_train_pred)\n",
    "    model_test_mae, model_test_rsme, model_test_r2score=evalution_metrics(y_test, y_test_pred)\n",
    "    \n",
    "    \n",
    "    print(list(models.keys())[i])\n",
    "    model_list.append(list(models.keys())[i])\n",
    "    \n",
    "    \n",
    "#     # check the accuracy of taing set\n",
    "#     model_acc=accuracy_score(Y_train, y_train_pred)\n",
    "#     model_f1=f1_score(Y_train, y_train_pred, average='weighted')\n",
    "#     model_precesion=precision_score(Y_train, y_train_pred)\n",
    "#     model_recall=recall_score(Y_train, y_train_pred)\n",
    "#     model_roc=roc_auc_score(Y_train, y_train_pred)\n",
    "    \n",
    "#     #testing accuracy\n",
    "#     model_acc_test=accuracy_score(Y_test, y_test_pred)\n",
    "#     model_f1_test=f1_score(Y_test, y_test_pred, average='weighted')\n",
    "#     model_precesion_test=precision_score(Y_test, y_test_pred)\n",
    "#     model_recall_test=recall_score(Y_test, y_test_pred)\n",
    "#     model_roc_test=roc_auc_score(Y_test, y_test_pred)\n",
    "    \n",
    "    \n",
    "#     print(list(models.keys())[i])\n",
    "\n",
    "    print(\"model performance for training set\")\n",
    "    print(\"- Root mean squre error: {:.4f}\".format(model_train_rsme))\n",
    "    print(\"- Mean absolute error: {:.4f}\".format(model_train_mae))\n",
    "    print(\"- R2_score: {:.4f}\".format(model_train_r2score))\n",
    "\n",
    "    print(\"---------------------------------------------------------------------------------\")\n",
    "    \n",
    "    #model accuracy of testing\n",
    "    print(\"model performance of testing\")\n",
    "    print(\"- Root mean squre error: {:.4f}\".format(model_test_rsme))\n",
    "    print(\"- Mean absolute error: {:.4f}\".format(model_test_mae))\n",
    "    print(\"- R2_score: {:.4f}\".format(model_test_r2score))\n",
    "    \n",
    "    r2_list.append(model_test_r2score)\n",
    "    \n",
    "    print(\"=\"*35)\n",
    "    print(\"\\n\")\n",
    "    "
   ]
  },
  {
   "cell_type": "code",
   "execution_count": 44,
   "id": "8e7bcbdd",
   "metadata": {},
   "outputs": [
    {
     "data": {
      "text/html": [
       "<div>\n",
       "<style scoped>\n",
       "    .dataframe tbody tr th:only-of-type {\n",
       "        vertical-align: middle;\n",
       "    }\n",
       "\n",
       "    .dataframe tbody tr th {\n",
       "        vertical-align: top;\n",
       "    }\n",
       "\n",
       "    .dataframe thead th {\n",
       "        text-align: right;\n",
       "    }\n",
       "</style>\n",
       "<table border=\"1\" class=\"dataframe\">\n",
       "  <thead>\n",
       "    <tr style=\"text-align: right;\">\n",
       "      <th></th>\n",
       "      <th>Model_name</th>\n",
       "      <th>R2_score</th>\n",
       "    </tr>\n",
       "  </thead>\n",
       "  <tbody>\n",
       "    <tr>\n",
       "      <th>3</th>\n",
       "      <td>Rigid</td>\n",
       "      <td>0.880593</td>\n",
       "    </tr>\n",
       "    <tr>\n",
       "      <th>4</th>\n",
       "      <td>Linear Regression</td>\n",
       "      <td>0.880345</td>\n",
       "    </tr>\n",
       "    <tr>\n",
       "      <th>1</th>\n",
       "      <td>Random Forest</td>\n",
       "      <td>0.853332</td>\n",
       "    </tr>\n",
       "    <tr>\n",
       "      <th>6</th>\n",
       "      <td>CatboostRegression</td>\n",
       "      <td>0.851632</td>\n",
       "    </tr>\n",
       "    <tr>\n",
       "      <th>7</th>\n",
       "      <td>AdaboostRegression</td>\n",
       "      <td>0.841901</td>\n",
       "    </tr>\n",
       "    <tr>\n",
       "      <th>5</th>\n",
       "      <td>XGBoostRegression</td>\n",
       "      <td>0.827797</td>\n",
       "    </tr>\n",
       "    <tr>\n",
       "      <th>2</th>\n",
       "      <td>Lesso</td>\n",
       "      <td>0.825320</td>\n",
       "    </tr>\n",
       "    <tr>\n",
       "      <th>0</th>\n",
       "      <td>Decision Tree</td>\n",
       "      <td>0.770546</td>\n",
       "    </tr>\n",
       "  </tbody>\n",
       "</table>\n",
       "</div>"
      ],
      "text/plain": [
       "           Model_name  R2_score\n",
       "3               Rigid  0.880593\n",
       "4   Linear Regression  0.880345\n",
       "1       Random Forest  0.853332\n",
       "6  CatboostRegression  0.851632\n",
       "7  AdaboostRegression  0.841901\n",
       "5   XGBoostRegression  0.827797\n",
       "2               Lesso  0.825320\n",
       "0       Decision Tree  0.770546"
      ]
     },
     "execution_count": 44,
     "metadata": {},
     "output_type": "execute_result"
    }
   ],
   "source": [
    "#create an dataframe which shows the no of algorithms having best r2_score\n",
    "pd.DataFrame(list(zip(model_list, r2_list)), columns=['Model_name', 'R2_score']).sort_values(by=[\"R2_score\"], ascending=False)"
   ]
  },
  {
   "cell_type": "code",
   "execution_count": 47,
   "id": "0d9347f9",
   "metadata": {},
   "outputs": [
    {
     "name": "stdout",
     "output_type": "stream",
     "text": [
      "accuracy : 88\n"
     ]
    }
   ],
   "source": [
    "#we use linier regression model\n",
    "lin_model=LinearRegression(fit_intercept=True)\n",
    "lin_model=lin_model.fit(X_train, y_train)\n",
    "y_pred=lin_model.predict(X_test)\n",
    "score=r2_score(y_test, y_pred)*100\n",
    "print(\"accuracy : %2.f\" %score)"
   ]
  },
  {
   "cell_type": "code",
   "execution_count": 48,
   "id": "4bede9e5",
   "metadata": {},
   "outputs": [
    {
     "data": {
      "text/plain": [
       "Text(0, 0.5, 'predicted')"
      ]
     },
     "execution_count": 48,
     "metadata": {},
     "output_type": "execute_result"
    },
    {
     "data": {
      "image/png": "[encoded data removed]",
      "text/plain": [
       "<Figure size 640x480 with 1 Axes>"
      ]
     },
     "metadata": {},
     "output_type": "display_data"
    }
   ],
   "source": [
    "plt.scatter(y_test,y_pred)\n",
    "plt.xlabel('Actual')\n",
    "plt.ylabel('predicted')"
   ]
  },
  {
   "cell_type": "code",
   "execution_count": 49,
   "id": "55e15359",
   "metadata": {},
   "outputs": [
    {
     "data": {
      "text/plain": [
       "<Axes: xlabel='math score'>"
      ]
     },
     "execution_count": 49,
     "metadata": {},
     "output_type": "execute_result"
    },
    {
     "data": {
      "image/png": "[encoded data removed]",
      "text/plain": [
       "<Figure size 640x480 with 1 Axes>"
      ]
     },
     "metadata": {},
     "output_type": "display_data"
    }
   ],
   "source": [
    "sns.regplot(x=y_test,y=y_pred,ci=None,color='red')"
   ]
  },
  {
   "cell_type": "code",
   "execution_count": 50,
   "id": "94f4d10a",
   "metadata": {},
   "outputs": [],
   "source": [
    "pred_df=pd.DataFrame({'Actual value':y_test, 'Predicted value':y_test, 'Difference':y_test-y_pred})"
   ]
  },
  {
   "cell_type": "code",
   "execution_count": 51,
   "id": "764c57de",
   "metadata": {},
   "outputs": [
    {
     "data": {
      "text/html": [
       "<div>\n",
       "<style scoped>\n",
       "    .dataframe tbody tr th:only-of-type {\n",
       "        vertical-align: middle;\n",
       "    }\n",
       "\n",
       "    .dataframe tbody tr th {\n",
       "        vertical-align: top;\n",
       "    }\n",
       "\n",
       "    .dataframe thead th {\n",
       "        text-align: right;\n",
       "    }\n",
       "</style>\n",
       "<table border=\"1\" class=\"dataframe\">\n",
       "  <thead>\n",
       "    <tr style=\"text-align: right;\">\n",
       "      <th></th>\n",
       "      <th>Actual value</th>\n",
       "      <th>Predicted value</th>\n",
       "      <th>Difference</th>\n",
       "    </tr>\n",
       "  </thead>\n",
       "  <tbody>\n",
       "    <tr>\n",
       "      <th>521</th>\n",
       "      <td>91</td>\n",
       "      <td>91</td>\n",
       "      <td>14.492188</td>\n",
       "    </tr>\n",
       "    <tr>\n",
       "      <th>737</th>\n",
       "      <td>53</td>\n",
       "      <td>53</td>\n",
       "      <td>-5.953125</td>\n",
       "    </tr>\n",
       "    <tr>\n",
       "      <th>740</th>\n",
       "      <td>80</td>\n",
       "      <td>80</td>\n",
       "      <td>3.039062</td>\n",
       "    </tr>\n",
       "    <tr>\n",
       "      <th>660</th>\n",
       "      <td>74</td>\n",
       "      <td>74</td>\n",
       "      <td>-2.757812</td>\n",
       "    </tr>\n",
       "    <tr>\n",
       "      <th>411</th>\n",
       "      <td>84</td>\n",
       "      <td>84</td>\n",
       "      <td>-3.539062</td>\n",
       "    </tr>\n",
       "    <tr>\n",
       "      <th>...</th>\n",
       "      <td>...</td>\n",
       "      <td>...</td>\n",
       "      <td>...</td>\n",
       "    </tr>\n",
       "    <tr>\n",
       "      <th>408</th>\n",
       "      <td>52</td>\n",
       "      <td>52</td>\n",
       "      <td>8.453125</td>\n",
       "    </tr>\n",
       "    <tr>\n",
       "      <th>332</th>\n",
       "      <td>62</td>\n",
       "      <td>62</td>\n",
       "      <td>-0.031250</td>\n",
       "    </tr>\n",
       "    <tr>\n",
       "      <th>208</th>\n",
       "      <td>74</td>\n",
       "      <td>74</td>\n",
       "      <td>6.023438</td>\n",
       "    </tr>\n",
       "    <tr>\n",
       "      <th>613</th>\n",
       "      <td>65</td>\n",
       "      <td>65</td>\n",
       "      <td>-2.132812</td>\n",
       "    </tr>\n",
       "    <tr>\n",
       "      <th>78</th>\n",
       "      <td>61</td>\n",
       "      <td>61</td>\n",
       "      <td>-1.492188</td>\n",
       "    </tr>\n",
       "  </tbody>\n",
       "</table>\n",
       "<p>200 rows × 3 columns</p>\n",
       "</div>"
      ],
      "text/plain": [
       "     Actual value  Predicted value  Difference\n",
       "521            91               91   14.492188\n",
       "737            53               53   -5.953125\n",
       "740            80               80    3.039062\n",
       "660            74               74   -2.757812\n",
       "411            84               84   -3.539062\n",
       "..            ...              ...         ...\n",
       "408            52               52    8.453125\n",
       "332            62               62   -0.031250\n",
       "208            74               74    6.023438\n",
       "613            65               65   -2.132812\n",
       "78             61               61   -1.492188\n",
       "\n",
       "[200 rows x 3 columns]"
      ]
     },
     "execution_count": 51,
     "metadata": {},
     "output_type": "execute_result"
    }
   ],
   "source": [
    "pred_df"
   ]
  },
  {
   "cell_type": "code",
   "execution_count": null,
   "id": "8a2aa291",
   "metadata": {},
   "outputs": [],
   "source": []
  }
 ],
 "metadata": {
  "kernelspec": {
   "display_name": "Python 3 (ipykernel)",
   "language": "python",
   "name": "python3"
  },
  "language_info": {
   "codemirror_mode": {
    "name": "ipython",
    "version": 3
   },
   "file_extension": ".py",
   "mimetype": "text/x-python",
   "name": "python",
   "nbconvert_exporter": "python",
   "pygments_lexer": "ipython3",
   "version": "3.11.5"
  }
 },
 "nbformat": 4,
 "nbformat_minor": 5
}
